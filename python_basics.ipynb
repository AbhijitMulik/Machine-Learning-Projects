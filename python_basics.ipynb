{
 "cells": [
  {
   "cell_type": "code",
   "execution_count": 3,
   "id": "cd0dea57-06a0-427b-a03d-304fa9c57726",
   "metadata": {},
   "outputs": [
    {
     "name": "stdout",
     "output_type": "stream",
     "text": [
      "My name is Abhi Mulik\n"
     ]
    }
   ],
   "source": [
    "f_name=\"Abhi\"\n",
    "l_name=\"Mulik\"\n",
    "print(\"My name is {} {}\".format(f_name,l_name))"
   ]
  },
  {
   "cell_type": "code",
   "execution_count": 4,
   "id": "a236ef52-84d2-4618-b28a-53cc47357029",
   "metadata": {},
   "outputs": [
    {
     "data": {
      "text/plain": [
       "4"
      ]
     },
     "execution_count": 4,
     "metadata": {},
     "output_type": "execute_result"
    }
   ],
   "source": [
    "len('Abhi')"
   ]
  },
  {
   "cell_type": "code",
   "execution_count": 6,
   "id": "ff95188b-9729-48e2-9d08-0ce0fb48b0d5",
   "metadata": {},
   "outputs": [
    {
     "data": {
      "text/plain": [
       "list"
      ]
     },
     "execution_count": 6,
     "metadata": {},
     "output_type": "execute_result"
    }
   ],
   "source": [
    "type(['1',2,3,4])"
   ]
  },
  {
   "cell_type": "code",
   "execution_count": 8,
   "id": "b88b5c31-5831-4f7b-acf7-b9b3ec4c4497",
   "metadata": {},
   "outputs": [],
   "source": [
    "my_str=\"Abhi\""
   ]
  },
  {
   "cell_type": "code",
   "execution_count": 9,
   "id": "74c74d32-990e-433a-a766-e3f87b8eaa26",
   "metadata": {},
   "outputs": [
    {
     "data": {
      "text/plain": [
       "True"
      ]
     },
     "execution_count": 9,
     "metadata": {},
     "output_type": "execute_result"
    }
   ],
   "source": [
    "my_str.isalpha() or my_str.isnum()"
   ]
  },
  {
   "cell_type": "code",
   "execution_count": 11,
   "id": "a119bb28-5de2-4622-b605-a955d573277a",
   "metadata": {},
   "outputs": [],
   "source": [
    "lst=[1,2,3,4,5,6]"
   ]
  },
  {
   "cell_type": "code",
   "execution_count": 12,
   "id": "95fe8ba2-ffcc-44ca-88c2-0a55f615499b",
   "metadata": {},
   "outputs": [],
   "source": [
    "lst.append(1)"
   ]
  },
  {
   "cell_type": "code",
   "execution_count": 13,
   "id": "faaaf52f-37ca-466d-83a7-b4a0423ba578",
   "metadata": {},
   "outputs": [
    {
     "data": {
      "text/plain": [
       "[1, 2, 3, 4, 5, 6, 1]"
      ]
     },
     "execution_count": 13,
     "metadata": {},
     "output_type": "execute_result"
    }
   ],
   "source": [
    "lst"
   ]
  },
  {
   "cell_type": "code",
   "execution_count": 15,
   "id": "0322dd2f-f623-4a13-b62a-f9305f385897",
   "metadata": {},
   "outputs": [
    {
     "data": {
      "text/plain": [
       "1"
      ]
     },
     "execution_count": 15,
     "metadata": {},
     "output_type": "execute_result"
    }
   ],
   "source": [
    "lst[6]"
   ]
  },
  {
   "cell_type": "code",
   "execution_count": 18,
   "id": "695dfaa1-0488-49c6-a27f-580a9817a28a",
   "metadata": {},
   "outputs": [
    {
     "data": {
      "text/plain": [
       "[3, 4, 5, 6, 1]"
      ]
     },
     "execution_count": 18,
     "metadata": {},
     "output_type": "execute_result"
    }
   ],
   "source": [
    "lst[2:]"
   ]
  },
  {
   "cell_type": "code",
   "execution_count": 19,
   "id": "ccc3b3e2-d13d-4926-a8db-d820a1150d04",
   "metadata": {},
   "outputs": [
    {
     "data": {
      "text/plain": [
       "[3, 4, 5]"
      ]
     },
     "execution_count": 19,
     "metadata": {},
     "output_type": "execute_result"
    }
   ],
   "source": [
    "lst[2:5]"
   ]
  },
  {
   "cell_type": "code",
   "execution_count": 20,
   "id": "c1ed60ef-49f6-4c9a-9406-dc20e19d1330",
   "metadata": {},
   "outputs": [],
   "source": [
    "lst.append([\"Abhi\",\"Jit\"])"
   ]
  },
  {
   "cell_type": "code",
   "execution_count": 21,
   "id": "d861441a-b9f8-40ae-acb7-1427c8fdcb91",
   "metadata": {},
   "outputs": [
    {
     "data": {
      "text/plain": [
       "[1, 2, 3, 4, 5, 6, 1, ['Abhi', 'Jit']]"
      ]
     },
     "execution_count": 21,
     "metadata": {},
     "output_type": "execute_result"
    }
   ],
   "source": [
    "lst"
   ]
  },
  {
   "cell_type": "code",
   "execution_count": 22,
   "id": "9ffc1352-f1a4-4c57-9e58-0073fcb3b940",
   "metadata": {},
   "outputs": [],
   "source": [
    "lst.insert(3,\"Sam\")"
   ]
  },
  {
   "cell_type": "code",
   "execution_count": 23,
   "id": "06815f43-1016-4d45-88de-0febdf197fdc",
   "metadata": {},
   "outputs": [
    {
     "data": {
      "text/plain": [
       "[1, 2, 3, 'Sam', 4, 5, 6, 1, ['Abhi', 'Jit']]"
      ]
     },
     "execution_count": 23,
     "metadata": {},
     "output_type": "execute_result"
    }
   ],
   "source": [
    "lst"
   ]
  },
  {
   "cell_type": "code",
   "execution_count": 24,
   "id": "1ba34714-715e-45b6-89c1-8d2d66953981",
   "metadata": {},
   "outputs": [],
   "source": [
    "lst.extend([0,9])"
   ]
  },
  {
   "cell_type": "code",
   "execution_count": 25,
   "id": "ebdc398e-6761-4a6c-b0b9-06593a2b8eb5",
   "metadata": {},
   "outputs": [
    {
     "data": {
      "text/plain": [
       "[1, 2, 3, 'Sam', 4, 5, 6, 1, ['Abhi', 'Jit'], 0, 9]"
      ]
     },
     "execution_count": 25,
     "metadata": {},
     "output_type": "execute_result"
    }
   ],
   "source": [
    "lst"
   ]
  },
  {
   "cell_type": "code",
   "execution_count": 28,
   "id": "134dbc63-1f11-49d0-ab17-288492b9b540",
   "metadata": {},
   "outputs": [],
   "source": [
    "lst=[1,2,3]"
   ]
  },
  {
   "cell_type": "code",
   "execution_count": 29,
   "id": "c01a75b8-96b6-4a29-844e-50d1817d21a5",
   "metadata": {},
   "outputs": [
    {
     "data": {
      "text/plain": [
       "6"
      ]
     },
     "execution_count": 29,
     "metadata": {},
     "output_type": "execute_result"
    }
   ],
   "source": [
    "sum(lst)"
   ]
  },
  {
   "cell_type": "code",
   "execution_count": 30,
   "id": "6e9847bf-10cf-4cbf-9da1-8397d056c3b7",
   "metadata": {},
   "outputs": [
    {
     "data": {
      "text/plain": [
       "3"
      ]
     },
     "execution_count": 30,
     "metadata": {},
     "output_type": "execute_result"
    }
   ],
   "source": [
    "lst.pop()"
   ]
  },
  {
   "cell_type": "code",
   "execution_count": 31,
   "id": "327c2636-db3d-4254-a4a4-b8866326b1db",
   "metadata": {},
   "outputs": [
    {
     "data": {
      "text/plain": [
       "1"
      ]
     },
     "execution_count": 31,
     "metadata": {},
     "output_type": "execute_result"
    }
   ],
   "source": [
    "lst.pop(0)"
   ]
  },
  {
   "cell_type": "code",
   "execution_count": 37,
   "id": "ad76dfbc-4b6a-4f7c-95cf-970d7af6da07",
   "metadata": {},
   "outputs": [],
   "source": [
    "lst1=[7,6,2,22,3]"
   ]
  },
  {
   "cell_type": "code",
   "execution_count": 39,
   "id": "4ec48981-d768-46c2-a631-71f33330877d",
   "metadata": {},
   "outputs": [
    {
     "data": {
      "text/plain": [
       "1"
      ]
     },
     "execution_count": 39,
     "metadata": {},
     "output_type": "execute_result"
    }
   ],
   "source": [
    "lst1.count(2)"
   ]
  },
  {
   "cell_type": "code",
   "execution_count": 46,
   "id": "1705d324-ba0c-4612-bfc9-dd9facde527d",
   "metadata": {},
   "outputs": [
    {
     "data": {
      "text/plain": [
       "3"
      ]
     },
     "execution_count": 46,
     "metadata": {},
     "output_type": "execute_result"
    }
   ],
   "source": [
    "lst1.index(22,3,10)"
   ]
  },
  {
   "cell_type": "code",
   "execution_count": 50,
   "id": "175583c7-5f3b-4ce9-ba59-94d54ef430fc",
   "metadata": {},
   "outputs": [
    {
     "data": {
      "text/plain": [
       "2"
      ]
     },
     "execution_count": 50,
     "metadata": {},
     "output_type": "execute_result"
    }
   ],
   "source": [
    "min(lst1)"
   ]
  },
  {
   "cell_type": "code",
   "execution_count": null,
   "id": "1fcd48d0-4afb-430c-a96d-1127df3625bb",
   "metadata": {},
   "outputs": [],
   "source": []
  },
  {
   "cell_type": "code",
   "execution_count": null,
   "id": "ee810ad9-c461-4d40-a19e-e5162f643786",
   "metadata": {},
   "outputs": [],
   "source": []
  },
  {
   "cell_type": "code",
   "execution_count": null,
   "id": "5c4343e5-6caf-495a-b617-60c1da22b9a2",
   "metadata": {},
   "outputs": [],
   "source": []
  },
  {
   "cell_type": "code",
   "execution_count": null,
   "id": "24d75af8-8132-4929-8bf3-c35e80499640",
   "metadata": {},
   "outputs": [],
   "source": []
  },
  {
   "cell_type": "code",
   "execution_count": null,
   "id": "a284b9d8-7af5-405c-a863-1c73591d376d",
   "metadata": {},
   "outputs": [],
   "source": []
  }
 ],
 "metadata": {
  "kernelspec": {
   "display_name": "Python 3 (ipykernel)",
   "language": "python",
   "name": "python3"
  },
  "language_info": {
   "codemirror_mode": {
    "name": "ipython",
    "version": 3
   },
   "file_extension": ".py",
   "mimetype": "text/x-python",
   "name": "python",
   "nbconvert_exporter": "python",
   "pygments_lexer": "ipython3",
   "version": "3.11.5"
  }
 },
 "nbformat": 4,
 "nbformat_minor": 5
}
