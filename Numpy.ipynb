{
 "cells": [
  {
   "cell_type": "code",
   "execution_count": 19,
   "id": "7de05ed1-0d0a-4373-95fe-503196cca500",
   "metadata": {},
   "outputs": [],
   "source": [
    "import numpy as np "
   ]
  },
  {
   "cell_type": "code",
   "execution_count": 20,
   "id": "dcecdb30-77b9-4b5f-a1cc-af672d30d0c1",
   "metadata": {},
   "outputs": [],
   "source": [
    " my_lst=[1,2,3,4,5]"
   ]
  },
  {
   "cell_type": "code",
   "execution_count": 21,
   "id": "5315feb1-e5a6-4d79-affb-3c0a4853743d",
   "metadata": {},
   "outputs": [
    {
     "name": "stdout",
     "output_type": "stream",
     "text": [
      "[1, 2, 3, 4, 5]\n"
     ]
    }
   ],
   "source": [
    "print(my_lst)"
   ]
  },
  {
   "cell_type": "code",
   "execution_count": 22,
   "id": "2df53c93-f9b0-48f0-9d65-be2fa4d51886",
   "metadata": {},
   "outputs": [],
   "source": [
    "arr=np.array(my_lst)"
   ]
  },
  {
   "cell_type": "code",
   "execution_count": 23,
   "id": "b25670e1-d1ca-431d-9519-1d206104d35d",
   "metadata": {},
   "outputs": [
    {
     "data": {
      "text/plain": [
       "np.int64(4)"
      ]
     },
     "execution_count": 23,
     "metadata": {},
     "output_type": "execute_result"
    }
   ],
   "source": [
    "arr[3]"
   ]
  },
  {
   "cell_type": "code",
   "execution_count": 24,
   "id": "ae6b148f-559a-4b75-989c-462405d0fede",
   "metadata": {},
   "outputs": [
    {
     "name": "stdout",
     "output_type": "stream",
     "text": [
      "[1 2 3 4 5]\n"
     ]
    }
   ],
   "source": [
    "print(arr)"
   ]
  },
  {
   "cell_type": "code",
   "execution_count": 25,
   "id": "1ff698a6-93eb-4e16-9969-9c0d03dac149",
   "metadata": {},
   "outputs": [
    {
     "data": {
      "text/plain": [
       "numpy.ndarray"
      ]
     },
     "execution_count": 25,
     "metadata": {},
     "output_type": "execute_result"
    }
   ],
   "source": [
    "type(arr)"
   ]
  },
  {
   "cell_type": "code",
   "execution_count": 26,
   "id": "bd814907-5fe2-4185-bcb5-cb4e07f9ee04",
   "metadata": {},
   "outputs": [
    {
     "data": {
      "text/plain": [
       "array([1, 2, 3, 4, 5])"
      ]
     },
     "execution_count": 26,
     "metadata": {},
     "output_type": "execute_result"
    }
   ],
   "source": [
    "arr"
   ]
  },
  {
   "cell_type": "code",
   "execution_count": 27,
   "id": "12c2c26d-da32-4d21-acaa-b882b61492dd",
   "metadata": {},
   "outputs": [
    {
     "data": {
      "text/plain": [
       "(5,)"
      ]
     },
     "execution_count": 27,
     "metadata": {},
     "output_type": "execute_result"
    }
   ],
   "source": [
    "arr.shape"
   ]
  },
  {
   "cell_type": "code",
   "execution_count": 33,
   "id": "98bd3acd-3eba-4b44-823c-279ec66ec35d",
   "metadata": {},
   "outputs": [],
   "source": [
    " my_lst1=[1,2,3,4,5]\n",
    " my_lst2=[2,3,4,6,7]\n",
    " my_lst3=[5,6,8,9,0]"
   ]
  },
  {
   "cell_type": "code",
   "execution_count": 34,
   "id": "e28daf1b-5bf9-4fb5-9c47-1bb259911dde",
   "metadata": {},
   "outputs": [],
   "source": [
    "arr1=np.array([my_lst1,my_lst2,my_lst3])"
   ]
  },
  {
   "cell_type": "code",
   "execution_count": 35,
   "id": "a9fce1ca-d22d-4ff8-95de-fc4929b9015b",
   "metadata": {},
   "outputs": [
    {
     "data": {
      "text/plain": [
       "array([[1, 2, 3, 4, 5],\n",
       "       [2, 3, 4, 6, 7],\n",
       "       [5, 6, 8, 9, 0]])"
      ]
     },
     "execution_count": 35,
     "metadata": {},
     "output_type": "execute_result"
    }
   ],
   "source": [
    "arr1"
   ]
  },
  {
   "cell_type": "code",
   "execution_count": 31,
   "id": "79b1b217-dd78-4d99-8d3d-472f619b30d3",
   "metadata": {},
   "outputs": [
    {
     "data": {
      "text/plain": [
       "(3, 5)"
      ]
     },
     "execution_count": 31,
     "metadata": {},
     "output_type": "execute_result"
    }
   ],
   "source": [
    "arr1.shape"
   ]
  },
  {
   "cell_type": "code",
   "execution_count": 32,
   "id": "0be6a21d-880c-4371-ac21-f18452c62035",
   "metadata": {},
   "outputs": [
    {
     "data": {
      "text/plain": [
       "array([[1, 2, 3],\n",
       "       [4, 5, 2],\n",
       "       [3, 4, 6],\n",
       "       [7, 5, 6],\n",
       "       [8, 9, 0]])"
      ]
     },
     "execution_count": 32,
     "metadata": {},
     "output_type": "execute_result"
    }
   ],
   "source": [
    "arr1.reshape(5,3)"
   ]
  },
  {
   "cell_type": "code",
   "execution_count": 40,
   "id": "b9a8a3cf-9df9-4e04-be74-966d047e0fa9",
   "metadata": {},
   "outputs": [
    {
     "data": {
      "text/plain": [
       "array([[3, 4, 6]])"
      ]
     },
     "execution_count": 40,
     "metadata": {},
     "output_type": "execute_result"
    }
   ],
   "source": [
    "arr1[1:2,1:4]"
   ]
  },
  {
   "cell_type": "code",
   "execution_count": 42,
   "id": "9886beb9-1df9-40fb-92dd-344c4dae380b",
   "metadata": {},
   "outputs": [
    {
     "data": {
      "text/plain": [
       "array([2, 3, 4, 6])"
      ]
     },
     "execution_count": 42,
     "metadata": {},
     "output_type": "execute_result"
    }
   ],
   "source": [
    "arr1[-2,:-1]"
   ]
  },
  {
   "cell_type": "code",
   "execution_count": 49,
   "id": "c733441e-5d66-450d-b104-ce896f2bbd8a",
   "metadata": {},
   "outputs": [],
   "source": [
    "arr2=np.arange(0,20,step=2)"
   ]
  },
  {
   "cell_type": "code",
   "execution_count": 50,
   "id": "75c62fcc-c0a4-4b37-8ac9-e5ef9cdd18c6",
   "metadata": {},
   "outputs": [
    {
     "data": {
      "text/plain": [
       "array([ 0,  2,  4,  6,  8, 10, 12, 14, 16, 18])"
      ]
     },
     "execution_count": 50,
     "metadata": {},
     "output_type": "execute_result"
    }
   ],
   "source": [
    "arr2"
   ]
  },
  {
   "cell_type": "code",
   "execution_count": 48,
   "id": "0a3e43b5-8c0f-4967-909a-330ac6da3780",
   "metadata": {},
   "outputs": [
    {
     "data": {
      "text/plain": [
       "array([ 1.        ,  1.18367347,  1.36734694,  1.55102041,  1.73469388,\n",
       "        1.91836735,  2.10204082,  2.28571429,  2.46938776,  2.65306122,\n",
       "        2.83673469,  3.02040816,  3.20408163,  3.3877551 ,  3.57142857,\n",
       "        3.75510204,  3.93877551,  4.12244898,  4.30612245,  4.48979592,\n",
       "        4.67346939,  4.85714286,  5.04081633,  5.2244898 ,  5.40816327,\n",
       "        5.59183673,  5.7755102 ,  5.95918367,  6.14285714,  6.32653061,\n",
       "        6.51020408,  6.69387755,  6.87755102,  7.06122449,  7.24489796,\n",
       "        7.42857143,  7.6122449 ,  7.79591837,  7.97959184,  8.16326531,\n",
       "        8.34693878,  8.53061224,  8.71428571,  8.89795918,  9.08163265,\n",
       "        9.26530612,  9.44897959,  9.63265306,  9.81632653, 10.        ])"
      ]
     },
     "execution_count": 48,
     "metadata": {},
     "output_type": "execute_result"
    }
   ],
   "source": [
    "np.linspace(1,10,50)"
   ]
  },
  {
   "cell_type": "code",
   "execution_count": 51,
   "id": "cd2294ae-e1f6-4b80-9817-29027acce7cc",
   "metadata": {},
   "outputs": [],
   "source": [
    "arr2[3:]=100"
   ]
  },
  {
   "cell_type": "code",
   "execution_count": 52,
   "id": "91c251ad-2a9f-49a5-9162-a588744ca961",
   "metadata": {},
   "outputs": [
    {
     "data": {
      "text/plain": [
       "array([  0,   2,   4, 100, 100, 100, 100, 100, 100, 100])"
      ]
     },
     "execution_count": 52,
     "metadata": {},
     "output_type": "execute_result"
    }
   ],
   "source": [
    "arr2"
   ]
  },
  {
   "cell_type": "code",
   "execution_count": 53,
   "id": "df7695cc-4afd-473f-988c-7f125d7b91fb",
   "metadata": {},
   "outputs": [],
   "source": [
    "arr3=arr2.copy()"
   ]
  },
  {
   "cell_type": "code",
   "execution_count": 54,
   "id": "3a27dd0a-3acc-4492-9062-f5cafd17fa55",
   "metadata": {},
   "outputs": [
    {
     "data": {
      "text/plain": [
       "array([  0,   2,   4, 100, 100, 100, 100, 100, 100, 100])"
      ]
     },
     "execution_count": 54,
     "metadata": {},
     "output_type": "execute_result"
    }
   ],
   "source": [
    "arr3"
   ]
  },
  {
   "cell_type": "code",
   "execution_count": 55,
   "id": "48ddf260-1bfd-44da-a75d-ea235a39c74d",
   "metadata": {},
   "outputs": [
    {
     "name": "stdout",
     "output_type": "stream",
     "text": [
      "[  0   2   4 100 100 100 100 100 100 100]\n",
      "[   0    2    4 1000 1000 1000 1000 1000 1000 1000]\n"
     ]
    }
   ],
   "source": [
    "print(arr2)\n",
    "arr3[3:]=1000\n",
    "print(arr3)"
   ]
  },
  {
   "cell_type": "code",
   "execution_count": 57,
   "id": "58a7d67b-186a-4c78-aee2-044641dfecc6",
   "metadata": {},
   "outputs": [
    {
     "data": {
      "text/plain": [
       "array([ True, False, False, False, False, False, False, False, False,\n",
       "       False])"
      ]
     },
     "execution_count": 57,
     "metadata": {},
     "output_type": "execute_result"
    }
   ],
   "source": [
    "val=2\n",
    "arr3<2"
   ]
  },
  {
   "cell_type": "code",
   "execution_count": 58,
   "id": "4b5d3a62-4ef7-43a7-8471-8caa940a313e",
   "metadata": {},
   "outputs": [
    {
     "data": {
      "text/plain": [
       "array([   0,    4,    8, 2000, 2000, 2000, 2000, 2000, 2000, 2000])"
      ]
     },
     "execution_count": 58,
     "metadata": {},
     "output_type": "execute_result"
    }
   ],
   "source": [
    "arr3*2"
   ]
  },
  {
   "cell_type": "code",
   "execution_count": 59,
   "id": "bab47492-97ba-4f59-a44b-d65d2a880c06",
   "metadata": {},
   "outputs": [
    {
     "data": {
      "text/plain": [
       "array([  0.,   1.,   2., 500., 500., 500., 500., 500., 500., 500.])"
      ]
     },
     "execution_count": 59,
     "metadata": {},
     "output_type": "execute_result"
    }
   ],
   "source": [
    "arr3/2"
   ]
  },
  {
   "cell_type": "code",
   "execution_count": 62,
   "id": "3585ad28-894d-4535-908c-3e26df13bc13",
   "metadata": {},
   "outputs": [
    {
     "data": {
      "text/plain": [
       "array([0, 2, 4])"
      ]
     },
     "execution_count": 62,
     "metadata": {},
     "output_type": "execute_result"
    }
   ],
   "source": [
    "arr3[arr3<200]"
   ]
  },
  {
   "cell_type": "code",
   "execution_count": 64,
   "id": "071e8f58-753c-45b0-938e-078558260372",
   "metadata": {},
   "outputs": [
    {
     "data": {
      "text/plain": [
       "array([[1., 1., 1., 1., 1.],\n",
       "       [1., 1., 1., 1., 1.]])"
      ]
     },
     "execution_count": 64,
     "metadata": {},
     "output_type": "execute_result"
    }
   ],
   "source": [
    "np.ones((2,5),dtype=float)"
   ]
  },
  {
   "cell_type": "code",
   "execution_count": 65,
   "id": "3ff4e070-b13a-4c4f-993a-caed59b0ee46",
   "metadata": {},
   "outputs": [
    {
     "data": {
      "text/plain": [
       "array([[1, 1, 1, 1, 1],\n",
       "       [1, 1, 1, 1, 1]])"
      ]
     },
     "execution_count": 65,
     "metadata": {},
     "output_type": "execute_result"
    }
   ],
   "source": [
    "np.ones((2,5),dtype=int)"
   ]
  },
  {
   "cell_type": "code",
   "execution_count": 76,
   "id": "53c29c5c-1870-4a80-b8f7-2e93ec28d7e7",
   "metadata": {},
   "outputs": [],
   "source": [
    "arr_ex=np.random.rand(4,4) ##between 0-1"
   ]
  },
  {
   "cell_type": "code",
   "execution_count": 77,
   "id": "4e0922a7-3106-43bf-a477-970e6653733c",
   "metadata": {},
   "outputs": [
    {
     "data": {
      "text/plain": [
       "array([[0.54775015, 0.97217313, 0.87273962, 0.34114219],\n",
       "       [0.99739888, 0.32171457, 0.33967786, 0.3190687 ],\n",
       "       [0.80321775, 0.39817208, 0.32129592, 0.90386963],\n",
       "       [0.96321599, 0.63966174, 0.02006015, 0.82363742]])"
      ]
     },
     "execution_count": 77,
     "metadata": {},
     "output_type": "execute_result"
    }
   ],
   "source": [
    "arr_ex"
   ]
  },
  {
   "cell_type": "code",
   "execution_count": 79,
   "id": "323c1367-36b4-4c36-9b75-aff43f7a404b",
   "metadata": {},
   "outputs": [],
   "source": [
    "arr_ex1=np.random.randn(4,4) "
   ]
  },
  {
   "cell_type": "code",
   "execution_count": 80,
   "id": "7649f415-81e3-409e-af41-46bc601256c5",
   "metadata": {},
   "outputs": [
    {
     "data": {
      "text/plain": [
       "array([[-0.05285316,  1.27600937, -0.13580772,  0.17969972],\n",
       "       [ 0.85148061, -0.06785173,  0.9464409 ,  0.29949893],\n",
       "       [-0.85151947,  0.52280161,  1.17438531,  0.41975346],\n",
       "       [ 0.26562941,  0.28272221, -1.56003531,  0.08404757]])"
      ]
     },
     "execution_count": 80,
     "metadata": {},
     "output_type": "execute_result"
    }
   ],
   "source": [
    "arr_ex1"
   ]
  },
  {
   "cell_type": "code",
   "execution_count": 81,
   "id": "96ff5b5e-cfda-444f-8604-5c7333a718e9",
   "metadata": {},
   "outputs": [
    {
     "data": {
      "text/plain": [
       "array([93, 40, 27, 68, 30, 33, 66, 65], dtype=int32)"
      ]
     },
     "execution_count": 81,
     "metadata": {},
     "output_type": "execute_result"
    }
   ],
   "source": [
    "np.random.randint(0,100,8)"
   ]
  },
  {
   "cell_type": "code",
   "execution_count": 85,
   "id": "896f0e04-4075-492c-b2d6-5acb1eff8034",
   "metadata": {},
   "outputs": [
    {
     "data": {
      "text/plain": [
       "array([[0.55931   , 0.63708626, 0.42446322, 0.65640902, 0.42989512]])"
      ]
     },
     "execution_count": 85,
     "metadata": {},
     "output_type": "execute_result"
    }
   ],
   "source": [
    "np.random.random_sample((1,5))"
   ]
  },
  {
   "cell_type": "code",
   "execution_count": null,
   "id": "94bfab31-c219-4b19-b144-cae284af15e2",
   "metadata": {},
   "outputs": [],
   "source": []
  }
 ],
 "metadata": {
  "kernelspec": {
   "display_name": "Python 3 (ipykernel)",
   "language": "python",
   "name": "python3"
  },
  "language_info": {
   "codemirror_mode": {
    "name": "ipython",
    "version": 3
   },
   "file_extension": ".py",
   "mimetype": "text/x-python",
   "name": "python",
   "nbconvert_exporter": "python",
   "pygments_lexer": "ipython3",
   "version": "3.11.5"
  }
 },
 "nbformat": 4,
 "nbformat_minor": 5
}
